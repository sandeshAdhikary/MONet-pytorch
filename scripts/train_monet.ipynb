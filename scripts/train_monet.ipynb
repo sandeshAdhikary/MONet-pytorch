{
 "cells": [
  {
   "cell_type": "code",
   "execution_count": null,
   "metadata": {},
   "outputs": [],
   "source": []
  }
 ],
 "metadata": {
  "kernelspec": {
   "display_name": "monet",
   "language": "python",
   "name": "python3"
  },
  "language_info": {
   "name": "python",
   "version": "3.10.9"
  },
  "orig_nbformat": 4,
  "vscode": {
   "interpreter": {
    "hash": "0333ad3635a7b6413a9c1eb97a6bfc6c8177a2d434c487564005d9ec74a0d527"
   }
  }
 },
 "nbformat": 4,
 "nbformat_minor": 2
}
